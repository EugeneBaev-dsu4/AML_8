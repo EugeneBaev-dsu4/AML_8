{
 "cells": [
  {
   "cell_type": "code",
   "execution_count": 1,
   "metadata": {},
   "outputs": [],
   "source": [
    "import numpy as np\n",
    "import pandas as pd # Для работы с данными\n",
    "import scipy.stats # При работе со статистикой\n",
    "import seaborn as sns\n",
    "import matplotlib.pyplot as plt  # Библиотека для визуализации результатов\n",
    "%matplotlib inline"
   ]
  },
  {
   "cell_type": "code",
   "execution_count": 2,
   "metadata": {},
   "outputs": [],
   "source": [
    "from sklearn import datasets\n",
    "from sklearn.ensemble import RandomForestClassifier\n",
    "from sklearn.ensemble import RandomForestRegressor\n",
    "from sklearn.model_selection import train_test_split, cross_val_score"
   ]
  },
  {
   "cell_type": "code",
   "execution_count": 3,
   "metadata": {},
   "outputs": [],
   "source": [
    "# загрузим датасет\n",
    "from sklearn.datasets import fetch_covtype\n",
    "df = fetch_covtype()"
   ]
  },
  {
   "cell_type": "code",
   "execution_count": 4,
   "metadata": {},
   "outputs": [],
   "source": [
    "#загрузим признаки\n",
    "features = df.data"
   ]
  },
  {
   "cell_type": "code",
   "execution_count": 5,
   "metadata": {},
   "outputs": [],
   "source": [
    "columns = ['Elevation', 'Aspect', 'Slope',\n",
    "       'Horizontal_Distance_To_Hydrology', 'Vertical_Distance_To_Hydrology',\n",
    "       'Horizontal_Distance_To_Roadways', 'Hillshade_9am', 'Hillshade_Noon',\n",
    "       'Hillshade_3pm', 'Horizontal_Distance_To_Fire_Points',\n",
    "       'Wilderness_Area1', 'Wilderness_Area2', 'Wilderness_Area3',\n",
    "       'Wilderness_Area4', 'Soil_Type1', 'Soil_Type2', 'Soil_Type3',\n",
    "       'Soil_Type4', 'Soil_Type5', 'Soil_Type6', 'Soil_Type7', 'Soil_Type8',\n",
    "       'Soil_Type9', 'Soil_Type10', 'Soil_Type11', 'Soil_Type12',\n",
    "       'Soil_Type13', 'Soil_Type14', 'Soil_Type15', 'Soil_Type16',\n",
    "       'Soil_Type17', 'Soil_Type18', 'Soil_Type19', 'Soil_Type20',\n",
    "       'Soil_Type21', 'Soil_Type22', 'Soil_Type23', 'Soil_Type24',\n",
    "       'Soil_Type25', 'Soil_Type26', 'Soil_Type27', 'Soil_Type28',\n",
    "       'Soil_Type29', 'Soil_Type30', 'Soil_Type31', 'Soil_Type32',\n",
    "       'Soil_Type33', 'Soil_Type34', 'Soil_Type35', 'Soil_Type36',\n",
    "       'Soil_Type37', 'Soil_Type38', 'Soil_Type39', 'Soil_Type40']"
   ]
  },
  {
   "cell_type": "code",
   "execution_count": 6,
   "metadata": {},
   "outputs": [],
   "source": [
    "data = pd.DataFrame(features, columns = columns)"
   ]
  },
  {
   "cell_type": "code",
   "execution_count": 7,
   "metadata": {},
   "outputs": [],
   "source": [
    "#загрузим целевую переменную\n",
    "data['Cover_Type'] = df.target"
   ]
  },
  {
   "cell_type": "code",
   "execution_count": 8,
   "metadata": {},
   "outputs": [
    {
     "data": {
      "text/html": [
       "<div>\n",
       "<style scoped>\n",
       "    .dataframe tbody tr th:only-of-type {\n",
       "        vertical-align: middle;\n",
       "    }\n",
       "\n",
       "    .dataframe tbody tr th {\n",
       "        vertical-align: top;\n",
       "    }\n",
       "\n",
       "    .dataframe thead th {\n",
       "        text-align: right;\n",
       "    }\n",
       "</style>\n",
       "<table border=\"1\" class=\"dataframe\">\n",
       "  <thead>\n",
       "    <tr style=\"text-align: right;\">\n",
       "      <th></th>\n",
       "      <th>Elevation</th>\n",
       "      <th>Aspect</th>\n",
       "      <th>Slope</th>\n",
       "      <th>Horizontal_Distance_To_Hydrology</th>\n",
       "      <th>Vertical_Distance_To_Hydrology</th>\n",
       "      <th>Horizontal_Distance_To_Roadways</th>\n",
       "      <th>Hillshade_9am</th>\n",
       "      <th>Hillshade_Noon</th>\n",
       "      <th>Hillshade_3pm</th>\n",
       "      <th>Horizontal_Distance_To_Fire_Points</th>\n",
       "      <th>...</th>\n",
       "      <th>Soil_Type32</th>\n",
       "      <th>Soil_Type33</th>\n",
       "      <th>Soil_Type34</th>\n",
       "      <th>Soil_Type35</th>\n",
       "      <th>Soil_Type36</th>\n",
       "      <th>Soil_Type37</th>\n",
       "      <th>Soil_Type38</th>\n",
       "      <th>Soil_Type39</th>\n",
       "      <th>Soil_Type40</th>\n",
       "      <th>Cover_Type</th>\n",
       "    </tr>\n",
       "  </thead>\n",
       "  <tbody>\n",
       "    <tr>\n",
       "      <th>0</th>\n",
       "      <td>2596.0</td>\n",
       "      <td>51.0</td>\n",
       "      <td>3.0</td>\n",
       "      <td>258.0</td>\n",
       "      <td>0.0</td>\n",
       "      <td>510.0</td>\n",
       "      <td>221.0</td>\n",
       "      <td>232.0</td>\n",
       "      <td>148.0</td>\n",
       "      <td>6279.0</td>\n",
       "      <td>...</td>\n",
       "      <td>0.0</td>\n",
       "      <td>0.0</td>\n",
       "      <td>0.0</td>\n",
       "      <td>0.0</td>\n",
       "      <td>0.0</td>\n",
       "      <td>0.0</td>\n",
       "      <td>0.0</td>\n",
       "      <td>0.0</td>\n",
       "      <td>0.0</td>\n",
       "      <td>5</td>\n",
       "    </tr>\n",
       "    <tr>\n",
       "      <th>1</th>\n",
       "      <td>2590.0</td>\n",
       "      <td>56.0</td>\n",
       "      <td>2.0</td>\n",
       "      <td>212.0</td>\n",
       "      <td>-6.0</td>\n",
       "      <td>390.0</td>\n",
       "      <td>220.0</td>\n",
       "      <td>235.0</td>\n",
       "      <td>151.0</td>\n",
       "      <td>6225.0</td>\n",
       "      <td>...</td>\n",
       "      <td>0.0</td>\n",
       "      <td>0.0</td>\n",
       "      <td>0.0</td>\n",
       "      <td>0.0</td>\n",
       "      <td>0.0</td>\n",
       "      <td>0.0</td>\n",
       "      <td>0.0</td>\n",
       "      <td>0.0</td>\n",
       "      <td>0.0</td>\n",
       "      <td>5</td>\n",
       "    </tr>\n",
       "    <tr>\n",
       "      <th>2</th>\n",
       "      <td>2804.0</td>\n",
       "      <td>139.0</td>\n",
       "      <td>9.0</td>\n",
       "      <td>268.0</td>\n",
       "      <td>65.0</td>\n",
       "      <td>3180.0</td>\n",
       "      <td>234.0</td>\n",
       "      <td>238.0</td>\n",
       "      <td>135.0</td>\n",
       "      <td>6121.0</td>\n",
       "      <td>...</td>\n",
       "      <td>0.0</td>\n",
       "      <td>0.0</td>\n",
       "      <td>0.0</td>\n",
       "      <td>0.0</td>\n",
       "      <td>0.0</td>\n",
       "      <td>0.0</td>\n",
       "      <td>0.0</td>\n",
       "      <td>0.0</td>\n",
       "      <td>0.0</td>\n",
       "      <td>2</td>\n",
       "    </tr>\n",
       "    <tr>\n",
       "      <th>3</th>\n",
       "      <td>2785.0</td>\n",
       "      <td>155.0</td>\n",
       "      <td>18.0</td>\n",
       "      <td>242.0</td>\n",
       "      <td>118.0</td>\n",
       "      <td>3090.0</td>\n",
       "      <td>238.0</td>\n",
       "      <td>238.0</td>\n",
       "      <td>122.0</td>\n",
       "      <td>6211.0</td>\n",
       "      <td>...</td>\n",
       "      <td>0.0</td>\n",
       "      <td>0.0</td>\n",
       "      <td>0.0</td>\n",
       "      <td>0.0</td>\n",
       "      <td>0.0</td>\n",
       "      <td>0.0</td>\n",
       "      <td>0.0</td>\n",
       "      <td>0.0</td>\n",
       "      <td>0.0</td>\n",
       "      <td>2</td>\n",
       "    </tr>\n",
       "    <tr>\n",
       "      <th>4</th>\n",
       "      <td>2595.0</td>\n",
       "      <td>45.0</td>\n",
       "      <td>2.0</td>\n",
       "      <td>153.0</td>\n",
       "      <td>-1.0</td>\n",
       "      <td>391.0</td>\n",
       "      <td>220.0</td>\n",
       "      <td>234.0</td>\n",
       "      <td>150.0</td>\n",
       "      <td>6172.0</td>\n",
       "      <td>...</td>\n",
       "      <td>0.0</td>\n",
       "      <td>0.0</td>\n",
       "      <td>0.0</td>\n",
       "      <td>0.0</td>\n",
       "      <td>0.0</td>\n",
       "      <td>0.0</td>\n",
       "      <td>0.0</td>\n",
       "      <td>0.0</td>\n",
       "      <td>0.0</td>\n",
       "      <td>5</td>\n",
       "    </tr>\n",
       "  </tbody>\n",
       "</table>\n",
       "<p>5 rows × 55 columns</p>\n",
       "</div>"
      ],
      "text/plain": [
       "   Elevation  Aspect  Slope  Horizontal_Distance_To_Hydrology  \\\n",
       "0     2596.0    51.0    3.0                             258.0   \n",
       "1     2590.0    56.0    2.0                             212.0   \n",
       "2     2804.0   139.0    9.0                             268.0   \n",
       "3     2785.0   155.0   18.0                             242.0   \n",
       "4     2595.0    45.0    2.0                             153.0   \n",
       "\n",
       "   Vertical_Distance_To_Hydrology  Horizontal_Distance_To_Roadways  \\\n",
       "0                             0.0                            510.0   \n",
       "1                            -6.0                            390.0   \n",
       "2                            65.0                           3180.0   \n",
       "3                           118.0                           3090.0   \n",
       "4                            -1.0                            391.0   \n",
       "\n",
       "   Hillshade_9am  Hillshade_Noon  Hillshade_3pm  \\\n",
       "0          221.0           232.0          148.0   \n",
       "1          220.0           235.0          151.0   \n",
       "2          234.0           238.0          135.0   \n",
       "3          238.0           238.0          122.0   \n",
       "4          220.0           234.0          150.0   \n",
       "\n",
       "   Horizontal_Distance_To_Fire_Points  ...  Soil_Type32  Soil_Type33  \\\n",
       "0                              6279.0  ...          0.0          0.0   \n",
       "1                              6225.0  ...          0.0          0.0   \n",
       "2                              6121.0  ...          0.0          0.0   \n",
       "3                              6211.0  ...          0.0          0.0   \n",
       "4                              6172.0  ...          0.0          0.0   \n",
       "\n",
       "   Soil_Type34  Soil_Type35  Soil_Type36  Soil_Type37  Soil_Type38  \\\n",
       "0          0.0          0.0          0.0          0.0          0.0   \n",
       "1          0.0          0.0          0.0          0.0          0.0   \n",
       "2          0.0          0.0          0.0          0.0          0.0   \n",
       "3          0.0          0.0          0.0          0.0          0.0   \n",
       "4          0.0          0.0          0.0          0.0          0.0   \n",
       "\n",
       "   Soil_Type39  Soil_Type40  Cover_Type  \n",
       "0          0.0          0.0           5  \n",
       "1          0.0          0.0           5  \n",
       "2          0.0          0.0           2  \n",
       "3          0.0          0.0           2  \n",
       "4          0.0          0.0           5  \n",
       "\n",
       "[5 rows x 55 columns]"
      ]
     },
     "execution_count": 8,
     "metadata": {},
     "output_type": "execute_result"
    }
   ],
   "source": [
    "data.head()"
   ]
  },
  {
   "cell_type": "code",
   "execution_count": 9,
   "metadata": {},
   "outputs": [
    {
     "name": "stdout",
     "output_type": "stream",
     "text": [
      "<class 'pandas.core.frame.DataFrame'>\n",
      "RangeIndex: 581012 entries, 0 to 581011\n",
      "Data columns (total 55 columns):\n",
      " #   Column                              Non-Null Count   Dtype  \n",
      "---  ------                              --------------   -----  \n",
      " 0   Elevation                           581012 non-null  float64\n",
      " 1   Aspect                              581012 non-null  float64\n",
      " 2   Slope                               581012 non-null  float64\n",
      " 3   Horizontal_Distance_To_Hydrology    581012 non-null  float64\n",
      " 4   Vertical_Distance_To_Hydrology      581012 non-null  float64\n",
      " 5   Horizontal_Distance_To_Roadways     581012 non-null  float64\n",
      " 6   Hillshade_9am                       581012 non-null  float64\n",
      " 7   Hillshade_Noon                      581012 non-null  float64\n",
      " 8   Hillshade_3pm                       581012 non-null  float64\n",
      " 9   Horizontal_Distance_To_Fire_Points  581012 non-null  float64\n",
      " 10  Wilderness_Area1                    581012 non-null  float64\n",
      " 11  Wilderness_Area2                    581012 non-null  float64\n",
      " 12  Wilderness_Area3                    581012 non-null  float64\n",
      " 13  Wilderness_Area4                    581012 non-null  float64\n",
      " 14  Soil_Type1                          581012 non-null  float64\n",
      " 15  Soil_Type2                          581012 non-null  float64\n",
      " 16  Soil_Type3                          581012 non-null  float64\n",
      " 17  Soil_Type4                          581012 non-null  float64\n",
      " 18  Soil_Type5                          581012 non-null  float64\n",
      " 19  Soil_Type6                          581012 non-null  float64\n",
      " 20  Soil_Type7                          581012 non-null  float64\n",
      " 21  Soil_Type8                          581012 non-null  float64\n",
      " 22  Soil_Type9                          581012 non-null  float64\n",
      " 23  Soil_Type10                         581012 non-null  float64\n",
      " 24  Soil_Type11                         581012 non-null  float64\n",
      " 25  Soil_Type12                         581012 non-null  float64\n",
      " 26  Soil_Type13                         581012 non-null  float64\n",
      " 27  Soil_Type14                         581012 non-null  float64\n",
      " 28  Soil_Type15                         581012 non-null  float64\n",
      " 29  Soil_Type16                         581012 non-null  float64\n",
      " 30  Soil_Type17                         581012 non-null  float64\n",
      " 31  Soil_Type18                         581012 non-null  float64\n",
      " 32  Soil_Type19                         581012 non-null  float64\n",
      " 33  Soil_Type20                         581012 non-null  float64\n",
      " 34  Soil_Type21                         581012 non-null  float64\n",
      " 35  Soil_Type22                         581012 non-null  float64\n",
      " 36  Soil_Type23                         581012 non-null  float64\n",
      " 37  Soil_Type24                         581012 non-null  float64\n",
      " 38  Soil_Type25                         581012 non-null  float64\n",
      " 39  Soil_Type26                         581012 non-null  float64\n",
      " 40  Soil_Type27                         581012 non-null  float64\n",
      " 41  Soil_Type28                         581012 non-null  float64\n",
      " 42  Soil_Type29                         581012 non-null  float64\n",
      " 43  Soil_Type30                         581012 non-null  float64\n",
      " 44  Soil_Type31                         581012 non-null  float64\n",
      " 45  Soil_Type32                         581012 non-null  float64\n",
      " 46  Soil_Type33                         581012 non-null  float64\n",
      " 47  Soil_Type34                         581012 non-null  float64\n",
      " 48  Soil_Type35                         581012 non-null  float64\n",
      " 49  Soil_Type36                         581012 non-null  float64\n",
      " 50  Soil_Type37                         581012 non-null  float64\n",
      " 51  Soil_Type38                         581012 non-null  float64\n",
      " 52  Soil_Type39                         581012 non-null  float64\n",
      " 53  Soil_Type40                         581012 non-null  float64\n",
      " 54  Cover_Type                          581012 non-null  int32  \n",
      "dtypes: float64(54), int32(1)\n",
      "memory usage: 241.6 MB\n"
     ]
    }
   ],
   "source": [
    "# посмотрим тип данных и пропущенные значения\n",
    "data.info()"
   ]
  },
  {
   "cell_type": "code",
   "execution_count": 10,
   "metadata": {},
   "outputs": [],
   "source": [
    "RANDOM_STATE = 7\n",
    "N_FOLDS = 10"
   ]
  },
  {
   "cell_type": "code",
   "execution_count": 11,
   "metadata": {},
   "outputs": [],
   "source": [
    "X_train, X_test, y_train, y_test = train_test_split(data.drop('Cover_Type',axis=1), data['Cover_Type'], random_state=RANDOM_STATE, test_size=0.2, )"
   ]
  },
  {
   "cell_type": "code",
   "execution_count": 12,
   "metadata": {},
   "outputs": [
    {
     "data": {
      "text/plain": [
       "RandomForestRegressor(bootstrap=True, ccp_alpha=0.0, criterion='mse',\n",
       "                      max_depth=20, max_features=0.8, max_leaf_nodes=None,\n",
       "                      max_samples=None, min_impurity_decrease=0.0,\n",
       "                      min_impurity_split=None, min_samples_leaf=20,\n",
       "                      min_samples_split=2, min_weight_fraction_leaf=0.0,\n",
       "                      n_estimators=20, n_jobs=-1, oob_score=False,\n",
       "                      random_state=7, verbose=0, warm_start=False)"
      ]
     },
     "execution_count": 12,
     "metadata": {},
     "output_type": "execute_result"
    }
   ],
   "source": [
    "# обучим случайный лес на всех признаках\n",
    "model_rf = RandomForestRegressor(n_estimators=20, max_depth=20, min_samples_leaf=20, max_features=0.8, n_jobs=-1, bootstrap=True, random_state=RANDOM_STATE)\n",
    "model_rf.fit(X_train, y_train)"
   ]
  },
  {
   "cell_type": "code",
   "execution_count": 13,
   "metadata": {},
   "outputs": [
    {
     "name": "stdout",
     "output_type": "stream",
     "text": [
      "MSE: 0.5673345533458373\n"
     ]
    }
   ],
   "source": [
    "score_total = np.mean(-cross_val_score(model_rf,X_test,y_test,cv=N_FOLDS,scoring='neg_mean_squared_error'))\n",
    "print('MSE:', score_total)"
   ]
  },
  {
   "cell_type": "code",
   "execution_count": 14,
   "metadata": {},
   "outputs": [
    {
     "data": {
      "image/png": "[encoded data removed]",
      "text/plain": [
       "<Figure size 432x288 with 1 Axes>"
      ]
     },
     "metadata": {
      "needs_background": "light"
     },
     "output_type": "display_data"
    }
   ],
   "source": [
    "features = X_train.columns\n",
    "importances = model_rf.feature_importances_[0:20]\n",
    "\n",
    "indices = np.argsort(importances)\n",
    "\n",
    "plt.title('Feature Importances')\n",
    "plt.barh(range(len(indices)), importances[indices], color='b', align='center')\n",
    "plt.yticks(range(len(indices)), [features[i] for i in indices])\n",
    "plt.xlabel('Relative Importance')\n",
    "plt.show()"
   ]
  },
  {
   "cell_type": "markdown",
   "metadata": {},
   "source": [
    "Посмотрим важность признаков на основе деревья решений"
   ]
  },
  {
   "cell_type": "code",
   "execution_count": 15,
   "metadata": {},
   "outputs": [],
   "source": [
    "from sklearn.ensemble import ExtraTreesClassifier"
   ]
  },
  {
   "cell_type": "code",
   "execution_count": 16,
   "metadata": {},
   "outputs": [
    {
     "name": "stdout",
     "output_type": "stream",
     "text": [
      "Elevation\t- 0.1951\n",
      "Aspect\t- 0.0516\n",
      "Slope\t- 0.0367\n",
      "Horizontal_Distance_To_Hydrology\t- 0.0643\n",
      "Vertical_Distance_To_Hydrology\t- 0.0591\n",
      "Horizontal_Distance_To_Roadways\t- 0.1106\n",
      "Hillshade_9am\t- 0.0430\n",
      "Hillshade_Noon\t- 0.0458\n",
      "Hillshade_3pm\t- 0.0429\n",
      "Horizontal_Distance_To_Fire_Points\t- 0.1053\n",
      "Wilderness_Area1\t- 0.0108\n",
      "Wilderness_Area2\t- 0.0066\n",
      "Wilderness_Area3\t- 0.0112\n",
      "Wilderness_Area4\t- 0.0419\n",
      "Soil_Type1\t- 0.0014\n",
      "Soil_Type2\t- 0.0104\n",
      "Soil_Type3\t- 0.0029\n",
      "Soil_Type4\t- 0.0143\n",
      "Soil_Type5\t- 0.0006\n",
      "Soil_Type6\t- 0.0028\n",
      "Soil_Type7\t- 0.0001\n",
      "Soil_Type8\t- 0.0001\n",
      "Soil_Type9\t- 0.0002\n",
      "Soil_Type10\t- 0.0114\n",
      "Soil_Type11\t- 0.0037\n",
      "Soil_Type12\t- 0.0148\n",
      "Soil_Type13\t- 0.0053\n",
      "Soil_Type14\t- 0.0006\n",
      "Soil_Type15\t- 0.0000\n",
      "Soil_Type16\t- 0.0009\n",
      "Soil_Type17\t- 0.0020\n",
      "Soil_Type18\t- 0.0005\n",
      "Soil_Type19\t- 0.0012\n",
      "Soil_Type20\t- 0.0021\n",
      "Soil_Type21\t- 0.0013\n",
      "Soil_Type22\t- 0.0195\n",
      "Soil_Type23\t- 0.0125\n",
      "Soil_Type24\t- 0.0043\n",
      "Soil_Type25\t- 0.0003\n",
      "Soil_Type26\t- 0.0009\n",
      "Soil_Type27\t- 0.0008\n",
      "Soil_Type28\t- 0.0004\n",
      "Soil_Type29\t- 0.0050\n",
      "Soil_Type30\t- 0.0038\n",
      "Soil_Type31\t- 0.0035\n",
      "Soil_Type32\t- 0.0038\n",
      "Soil_Type33\t- 0.0037\n",
      "Soil_Type34\t- 0.0009\n",
      "Soil_Type35\t- 0.0024\n",
      "Soil_Type36\t- 0.0001\n",
      "Soil_Type37\t- 0.0009\n",
      "Soil_Type38\t- 0.0139\n",
      "Soil_Type39\t- 0.0138\n",
      "Soil_Type40\t- 0.0082\n"
     ]
    }
   ],
   "source": [
    "# извлечение признаков\n",
    "model = ExtraTreesClassifier()\n",
    "model.fit(data.drop('Cover_Type',axis=1), data['Cover_Type']) # обучение\n",
    "for i in range(len(columns)):\n",
    "    print(f\"{columns[i]}\\t- {model.feature_importances_[i]:.4f}\")"
   ]
  },
  {
   "cell_type": "markdown",
   "metadata": {},
   "source": [
    "Посмотрим корреляцию признаков"
   ]
  },
  {
   "cell_type": "code",
   "execution_count": 17,
   "metadata": {},
   "outputs": [
    {
     "data": {
      "text/plain": [
       "Elevation           0.269554\n",
       "Wilderness_Area1    0.203913\n",
       "Wilderness_Area4    0.323200\n",
       "Soil_Type10         0.243876\n",
       "Cover_Type          1.000000\n",
       "Name: Cover_Type, dtype: float64"
      ]
     },
     "execution_count": 17,
     "metadata": {},
     "output_type": "execute_result"
    }
   ],
   "source": [
    "corr = data.corr()\n",
    "# Корреляция с целевой переменной\n",
    "cor_target = abs(corr[\"Cover_Type\"])\n",
    "\n",
    "# Выбор наиболее коррелированных функций\n",
    "relevant_features = cor_target[cor_target>=0.2]\n",
    "relevant_features"
   ]
  },
  {
   "cell_type": "code",
   "execution_count": 18,
   "metadata": {},
   "outputs": [
    {
     "data": {
      "image/png": "[encoded data removed]",
      "text/plain": [
       "<Figure size 432x432 with 2 Axes>"
      ]
     },
     "metadata": {
      "needs_background": "light"
     },
     "output_type": "display_data"
    }
   ],
   "source": [
    "plt.figure(figsize=(6,6))\n",
    "corr_1 = data[relevant_features.index].corr()\n",
    "sns.heatmap(corr_1, annot=True, cmap=plt.cm.Reds)\n",
    "plt.show();"
   ]
  },
  {
   "cell_type": "markdown",
   "metadata": {},
   "source": [
    "Wilderness_Area4, Soil_Type10 и Elevation показывают достаточно высокую корреляцию, можно попробовать обучить модель только на Wilderness_Area4"
   ]
  },
  {
   "cell_type": "markdown",
   "metadata": {},
   "source": [
    "Посмотрим важность признаков с точки зрения методов L1-регуляризации"
   ]
  },
  {
   "cell_type": "code",
   "execution_count": 19,
   "metadata": {},
   "outputs": [
    {
     "data": {
      "image/png": "[encoded data removed]",
      "text/plain": [
       "<Figure size 864x648 with 1 Axes>"
      ]
     },
     "metadata": {
      "needs_background": "light"
     },
     "output_type": "display_data"
    }
   ],
   "source": [
    "from sklearn.linear_model import  Lasso # линейная модель с L1-регуляризацией\n",
    "from sklearn.preprocessing import StandardScaler\n",
    "\n",
    "import warnings\n",
    "warnings.filterwarnings('ignore')\n",
    "\n",
    "X_sc = StandardScaler().fit_transform(data.drop('Cover_Type',axis=1)) # преобразование данных\n",
    "lg_l,pred_l = [], []\n",
    "\n",
    "list_l=list(2**np.linspace(-10,10,100))\n",
    "\n",
    "# строим n-ое кол-во моделей Лассо, меняя коэффициент регуляризации, сохраняя модель и коэффициенты\n",
    "for i in range(len(list_l)):\n",
    "    m_l = Lasso(alpha=list_l[i]).fit(X_sc, data['Cover_Type'])\n",
    "    lg_l.append(m_l)\n",
    "    pred_l.append(m_l.coef_)\n",
    "\n",
    "# рисуем отмасштабированные признаки на одном графике\n",
    "plt.figure(figsize=(12,9))\n",
    "x_l = np.linspace(0,len(pred_l),len(pred_l))\n",
    "for i in np.vstack(pred_l).T:\n",
    "    plt.plot(x_l,np.sign(i)*np.abs(i)) \n",
    "plt.ylim(-0.05,0.2)  \n",
    "plt.legend(columns)      \n",
    "plt.grid()"
   ]
  },
  {
   "cell_type": "markdown",
   "metadata": {},
   "source": [
    "Посмотрим важность признаков с точки зрения метода Information value"
   ]
  },
  {
   "cell_type": "code",
   "execution_count": 20,
   "metadata": {},
   "outputs": [],
   "source": [
    "import pandas.core.algorithms as algos\n",
    "from pandas import Series\n",
    "import scipy.stats.stats as stats\n",
    "import re\n",
    "import traceback\n",
    "import string\n",
    "\n",
    "max_bin = 20\n",
    "force_bin = 3\n",
    "\n",
    "# define a binning function\n",
    "def mono_bin(Y, X, n = max_bin):\n",
    "    \n",
    "    df1 = pd.DataFrame({\"X\": X, \"Y\": Y})\n",
    "    justmiss = df1[['X','Y']][df1.X.isnull()]\n",
    "    notmiss = df1[['X','Y']][df1.X.notnull()]\n",
    "    r = 0\n",
    "    while np.abs(r) < 1:\n",
    "        try:\n",
    "            d1 = pd.DataFrame({\"X\": notmiss.X, \"Y\": notmiss.Y, \"Bucket\": pd.qcut(notmiss.X, n)})\n",
    "            d2 = d1.groupby('Bucket', as_index=True)\n",
    "            r, p = stats.spearmanr(d2.mean().X, d2.mean().Y)\n",
    "            n = n - 1 \n",
    "        except Exception as e:\n",
    "            n = n - 1\n",
    "\n",
    "    if len(d2) == 1:\n",
    "        n = force_bin         \n",
    "        bins = algos.quantile(notmiss.X, np.linspace(0, 1, n))\n",
    "        if len(np.unique(bins)) == 2:\n",
    "            bins = np.insert(bins, 0, 1)\n",
    "            bins[1] = bins[1]-(bins[1]/2)\n",
    "        d1 = pd.DataFrame({\"X\": notmiss.X, \"Y\": notmiss.Y, \"Bucket\": pd.cut(notmiss.X, np.unique(bins),include_lowest=True)}) \n",
    "        d2 = d1.groupby('Bucket', as_index=True)\n",
    "    \n",
    "    d3 = pd.DataFrame({},index=[])\n",
    "    d3[\"MIN_VALUE\"] = d2.min().X\n",
    "    d3[\"MAX_VALUE\"] = d2.max().X\n",
    "    d3[\"COUNT\"] = d2.count().Y\n",
    "    d3[\"EVENT\"] = d2.sum().Y\n",
    "    d3[\"NONEVENT\"] = d2.count().Y - d2.sum().Y\n",
    "    d3=d3.reset_index(drop=True)\n",
    "    \n",
    "    if len(justmiss.index) > 0:\n",
    "        d4 = pd.DataFrame({'MIN_VALUE':np.nan},index=[0])\n",
    "        d4[\"MAX_VALUE\"] = np.nan\n",
    "        d4[\"COUNT\"] = justmiss.count().Y\n",
    "        d4[\"EVENT\"] = justmiss.sum().Y\n",
    "        d4[\"NONEVENT\"] = justmiss.count().Y - justmiss.sum().Y\n",
    "        d3 = d3.append(d4,ignore_index=True)\n",
    "    \n",
    "    d3[\"EVENT_RATE\"] = d3.EVENT/d3.COUNT\n",
    "    d3[\"NON_EVENT_RATE\"] = d3.NONEVENT/d3.COUNT\n",
    "    d3[\"DIST_EVENT\"] = d3.EVENT/d3.sum().EVENT\n",
    "    d3[\"DIST_NON_EVENT\"] = d3.NONEVENT/d3.sum().NONEVENT\n",
    "    d3[\"WOE\"] = np.log(d3.DIST_EVENT/d3.DIST_NON_EVENT)\n",
    "    d3[\"IV\"] = (d3.DIST_EVENT-d3.DIST_NON_EVENT)*np.log(d3.DIST_EVENT/d3.DIST_NON_EVENT)\n",
    "    d3[\"VAR_NAME\"] = \"VAR\"\n",
    "    d3 = d3[['VAR_NAME','MIN_VALUE', 'MAX_VALUE', 'COUNT', 'EVENT', 'EVENT_RATE', 'NONEVENT', 'NON_EVENT_RATE', 'DIST_EVENT','DIST_NON_EVENT','WOE', 'IV']]       \n",
    "    d3 = d3.replace([np.inf, -np.inf], 0)\n",
    "    d3.IV = d3.IV.sum()\n",
    "    \n",
    "    return(d3)\n",
    "\n",
    "def char_bin(Y, X):\n",
    "        \n",
    "    df1 = pd.DataFrame({\"X\": X, \"Y\": Y})\n",
    "    justmiss = df1[['X','Y']][df1.X.isnull()]\n",
    "    notmiss = df1[['X','Y']][df1.X.notnull()]    \n",
    "    df2 = notmiss.groupby('X',as_index=True)\n",
    "    \n",
    "    d3 = pd.DataFrame({},index=[])\n",
    "    d3[\"COUNT\"] = df2.count().Y\n",
    "    d3[\"MIN_VALUE\"] = df2.sum().Y.index\n",
    "    d3[\"MAX_VALUE\"] = d3[\"MIN_VALUE\"]\n",
    "    d3[\"EVENT\"] = df2.sum().Y\n",
    "    d3[\"NONEVENT\"] = df2.count().Y - df2.sum().Y\n",
    "    \n",
    "    if len(justmiss.index) > 0:\n",
    "        d4 = pd.DataFrame({'MIN_VALUE':np.nan},index=[0])\n",
    "        d4[\"MAX_VALUE\"] = np.nan\n",
    "        d4[\"COUNT\"] = justmiss.count().Y\n",
    "        d4[\"EVENT\"] = justmiss.sum().Y\n",
    "        d4[\"NONEVENT\"] = justmiss.count().Y - justmiss.sum().Y\n",
    "        d3 = d3.append(d4,ignore_index=True)\n",
    "    \n",
    "    d3[\"EVENT_RATE\"] = d3.EVENT/d3.COUNT\n",
    "    d3[\"NON_EVENT_RATE\"] = d3.NONEVENT/d3.COUNT\n",
    "    d3[\"DIST_EVENT\"] = d3.EVENT/d3.sum().EVENT\n",
    "    d3[\"DIST_NON_EVENT\"] = d3.NONEVENT/d3.sum().NONEVENT\n",
    "    d3[\"WOE\"] = np.log(d3.DIST_EVENT/d3.DIST_NON_EVENT)\n",
    "    d3[\"IV\"] = (d3.DIST_EVENT-d3.DIST_NON_EVENT)*np.log(d3.DIST_EVENT/d3.DIST_NON_EVENT)\n",
    "    d3[\"VAR_NAME\"] = \"VAR\"\n",
    "    d3 = d3[['VAR_NAME','MIN_VALUE', 'MAX_VALUE', 'COUNT', 'EVENT', 'EVENT_RATE', 'NONEVENT', 'NON_EVENT_RATE', 'DIST_EVENT','DIST_NON_EVENT','WOE', 'IV']]      \n",
    "    d3 = d3.replace([np.inf, -np.inf], 0)\n",
    "    d3.IV = d3.IV.sum()\n",
    "    d3 = d3.reset_index(drop=True)\n",
    "    \n",
    "    return(d3)\n",
    "\n",
    "def data_vars(df1, target):\n",
    "    \n",
    "    stack = traceback.extract_stack()\n",
    "    filename, lineno, function_name, code = stack[-2]\n",
    "    vars_name = re.compile(r'\\((.*?)\\).*$').search(code).groups()[0]\n",
    "    final = (re.findall(r\"[\\w']+\", vars_name))[-1]\n",
    "    \n",
    "    x = df1.dtypes.index\n",
    "    count = -1\n",
    "    \n",
    "    for i in x:\n",
    "        if i.upper() not in (final.upper()):\n",
    "            if np.issubdtype(df1[i], np.number) and len(Series.unique(df1[i])) > 2:\n",
    "                conv = mono_bin(target, df1[i])\n",
    "                conv[\"VAR_NAME\"] = i\n",
    "                count = count + 1\n",
    "            else:\n",
    "                conv = char_bin(target, df1[i])\n",
    "                conv[\"VAR_NAME\"] = i            \n",
    "                count = count + 1\n",
    "                \n",
    "            if count == 0:\n",
    "                iv_df = conv\n",
    "            else:\n",
    "                iv_df = iv_df.append(conv,ignore_index=True)\n",
    "    \n",
    "    iv = pd.DataFrame({'IV':iv_df.groupby('VAR_NAME').IV.max()})\n",
    "    iv = iv.reset_index()\n",
    "    return(iv_df,iv) "
   ]
  },
  {
   "cell_type": "code",
   "execution_count": 21,
   "metadata": {},
   "outputs": [],
   "source": [
    "final_iv, IV = data_vars(data.drop('Cover_Type',axis=1), data['Cover_Type'])"
   ]
  },
  {
   "cell_type": "code",
   "execution_count": 22,
   "metadata": {},
   "outputs": [
    {
     "data": {
      "text/html": [
       "<div>\n",
       "<style scoped>\n",
       "    .dataframe tbody tr th:only-of-type {\n",
       "        vertical-align: middle;\n",
       "    }\n",
       "\n",
       "    .dataframe tbody tr th {\n",
       "        vertical-align: top;\n",
       "    }\n",
       "\n",
       "    .dataframe thead th {\n",
       "        text-align: right;\n",
       "    }\n",
       "</style>\n",
       "<table border=\"1\" class=\"dataframe\">\n",
       "  <thead>\n",
       "    <tr style=\"text-align: right;\">\n",
       "      <th></th>\n",
       "      <th>VAR_NAME</th>\n",
       "      <th>MIN_VALUE</th>\n",
       "      <th>MAX_VALUE</th>\n",
       "      <th>COUNT</th>\n",
       "      <th>EVENT</th>\n",
       "      <th>EVENT_RATE</th>\n",
       "      <th>NONEVENT</th>\n",
       "      <th>NON_EVENT_RATE</th>\n",
       "      <th>DIST_EVENT</th>\n",
       "      <th>DIST_NON_EVENT</th>\n",
       "      <th>WOE</th>\n",
       "      <th>IV</th>\n",
       "    </tr>\n",
       "  </thead>\n",
       "  <tbody>\n",
       "    <tr>\n",
       "      <th>0</th>\n",
       "      <td>Elevation</td>\n",
       "      <td>1859.0</td>\n",
       "      <td>2996.0</td>\n",
       "      <td>291012</td>\n",
       "      <td>681511</td>\n",
       "      <td>2.341866</td>\n",
       "      <td>-390499</td>\n",
       "      <td>-1.341866</td>\n",
       "      <td>0.571771</td>\n",
       "      <td>0.639201</td>\n",
       "      <td>-0.111480</td>\n",
       "      <td>0.019070</td>\n",
       "    </tr>\n",
       "    <tr>\n",
       "      <th>1</th>\n",
       "      <td>Elevation</td>\n",
       "      <td>2997.0</td>\n",
       "      <td>3858.0</td>\n",
       "      <td>290000</td>\n",
       "      <td>510418</td>\n",
       "      <td>1.760062</td>\n",
       "      <td>-220418</td>\n",
       "      <td>-0.760062</td>\n",
       "      <td>0.428229</td>\n",
       "      <td>0.360799</td>\n",
       "      <td>0.171337</td>\n",
       "      <td>0.019070</td>\n",
       "    </tr>\n",
       "    <tr>\n",
       "      <th>2</th>\n",
       "      <td>Aspect</td>\n",
       "      <td>0.0</td>\n",
       "      <td>127.0</td>\n",
       "      <td>291288</td>\n",
       "      <td>592401</td>\n",
       "      <td>2.033730</td>\n",
       "      <td>-301113</td>\n",
       "      <td>-1.033730</td>\n",
       "      <td>0.497010</td>\n",
       "      <td>0.492887</td>\n",
       "      <td>0.008331</td>\n",
       "      <td>0.000068</td>\n",
       "    </tr>\n",
       "    <tr>\n",
       "      <th>3</th>\n",
       "      <td>Aspect</td>\n",
       "      <td>128.0</td>\n",
       "      <td>360.0</td>\n",
       "      <td>289724</td>\n",
       "      <td>599528</td>\n",
       "      <td>2.069307</td>\n",
       "      <td>-309804</td>\n",
       "      <td>-1.069307</td>\n",
       "      <td>0.502990</td>\n",
       "      <td>0.507113</td>\n",
       "      <td>-0.008164</td>\n",
       "      <td>0.000068</td>\n",
       "    </tr>\n",
       "    <tr>\n",
       "      <th>4</th>\n",
       "      <td>Slope</td>\n",
       "      <td>0.0</td>\n",
       "      <td>4.0</td>\n",
       "      <td>40026</td>\n",
       "      <td>74110</td>\n",
       "      <td>1.851546</td>\n",
       "      <td>-34084</td>\n",
       "      <td>-0.851546</td>\n",
       "      <td>0.062177</td>\n",
       "      <td>0.055792</td>\n",
       "      <td>0.108355</td>\n",
       "      <td>0.008234</td>\n",
       "    </tr>\n",
       "  </tbody>\n",
       "</table>\n",
       "</div>"
      ],
      "text/plain": [
       "    VAR_NAME  MIN_VALUE  MAX_VALUE   COUNT   EVENT  EVENT_RATE  NONEVENT  \\\n",
       "0  Elevation     1859.0     2996.0  291012  681511    2.341866   -390499   \n",
       "1  Elevation     2997.0     3858.0  290000  510418    1.760062   -220418   \n",
       "2     Aspect        0.0      127.0  291288  592401    2.033730   -301113   \n",
       "3     Aspect      128.0      360.0  289724  599528    2.069307   -309804   \n",
       "4      Slope        0.0        4.0   40026   74110    1.851546    -34084   \n",
       "\n",
       "   NON_EVENT_RATE  DIST_EVENT  DIST_NON_EVENT       WOE        IV  \n",
       "0       -1.341866    0.571771        0.639201 -0.111480  0.019070  \n",
       "1       -0.760062    0.428229        0.360799  0.171337  0.019070  \n",
       "2       -1.033730    0.497010        0.492887  0.008331  0.000068  \n",
       "3       -1.069307    0.502990        0.507113 -0.008164  0.000068  \n",
       "4       -0.851546    0.062177        0.055792  0.108355  0.008234  "
      ]
     },
     "execution_count": 22,
     "metadata": {},
     "output_type": "execute_result"
    }
   ],
   "source": [
    "final_iv.head()"
   ]
  },
  {
   "cell_type": "code",
   "execution_count": 23,
   "metadata": {},
   "outputs": [
    {
     "data": {
      "text/html": [
       "<div>\n",
       "<style scoped>\n",
       "    .dataframe tbody tr th:only-of-type {\n",
       "        vertical-align: middle;\n",
       "    }\n",
       "\n",
       "    .dataframe tbody tr th {\n",
       "        vertical-align: top;\n",
       "    }\n",
       "\n",
       "    .dataframe thead th {\n",
       "        text-align: right;\n",
       "    }\n",
       "</style>\n",
       "<table border=\"1\" class=\"dataframe\">\n",
       "  <thead>\n",
       "    <tr style=\"text-align: right;\">\n",
       "      <th></th>\n",
       "      <th>VAR_NAME</th>\n",
       "      <th>IV</th>\n",
       "    </tr>\n",
       "  </thead>\n",
       "  <tbody>\n",
       "    <tr>\n",
       "      <th>27</th>\n",
       "      <td>Soil_Type26</td>\n",
       "      <td>5.922402e-08</td>\n",
       "    </tr>\n",
       "    <tr>\n",
       "      <th>46</th>\n",
       "      <td>Soil_Type7</td>\n",
       "      <td>1.068753e-07</td>\n",
       "    </tr>\n",
       "    <tr>\n",
       "      <th>29</th>\n",
       "      <td>Soil_Type28</td>\n",
       "      <td>1.268434e-06</td>\n",
       "    </tr>\n",
       "    <tr>\n",
       "      <th>15</th>\n",
       "      <td>Soil_Type15</td>\n",
       "      <td>4.594038e-06</td>\n",
       "    </tr>\n",
       "    <tr>\n",
       "      <th>47</th>\n",
       "      <td>Soil_Type8</td>\n",
       "      <td>7.148760e-06</td>\n",
       "    </tr>\n",
       "    <tr>\n",
       "      <th>36</th>\n",
       "      <td>Soil_Type34</td>\n",
       "      <td>8.304029e-06</td>\n",
       "    </tr>\n",
       "    <tr>\n",
       "      <th>3</th>\n",
       "      <td>Hillshade_9am</td>\n",
       "      <td>8.567548e-06</td>\n",
       "    </tr>\n",
       "    <tr>\n",
       "      <th>48</th>\n",
       "      <td>Soil_Type9</td>\n",
       "      <td>1.816033e-05</td>\n",
       "    </tr>\n",
       "    <tr>\n",
       "      <th>18</th>\n",
       "      <td>Soil_Type18</td>\n",
       "      <td>2.028328e-05</td>\n",
       "    </tr>\n",
       "    <tr>\n",
       "      <th>26</th>\n",
       "      <td>Soil_Type25</td>\n",
       "      <td>2.260561e-05</td>\n",
       "    </tr>\n",
       "    <tr>\n",
       "      <th>16</th>\n",
       "      <td>Soil_Type16</td>\n",
       "      <td>3.564446e-05</td>\n",
       "    </tr>\n",
       "    <tr>\n",
       "      <th>32</th>\n",
       "      <td>Soil_Type30</td>\n",
       "      <td>4.767974e-05</td>\n",
       "    </tr>\n",
       "    <tr>\n",
       "      <th>0</th>\n",
       "      <td>Aspect</td>\n",
       "      <td>6.801658e-05</td>\n",
       "    </tr>\n",
       "    <tr>\n",
       "      <th>38</th>\n",
       "      <td>Soil_Type36</td>\n",
       "      <td>9.861691e-05</td>\n",
       "    </tr>\n",
       "    <tr>\n",
       "      <th>28</th>\n",
       "      <td>Soil_Type27</td>\n",
       "      <td>1.317713e-04</td>\n",
       "    </tr>\n",
       "    <tr>\n",
       "      <th>2</th>\n",
       "      <td>Hillshade_3pm</td>\n",
       "      <td>1.824358e-04</td>\n",
       "    </tr>\n",
       "    <tr>\n",
       "      <th>13</th>\n",
       "      <td>Soil_Type13</td>\n",
       "      <td>2.201378e-04</td>\n",
       "    </tr>\n",
       "    <tr>\n",
       "      <th>12</th>\n",
       "      <td>Soil_Type12</td>\n",
       "      <td>2.585636e-04</td>\n",
       "    </tr>\n",
       "    <tr>\n",
       "      <th>11</th>\n",
       "      <td>Soil_Type11</td>\n",
       "      <td>4.256679e-04</td>\n",
       "    </tr>\n",
       "    <tr>\n",
       "      <th>21</th>\n",
       "      <td>Soil_Type20</td>\n",
       "      <td>4.447757e-04</td>\n",
       "    </tr>\n",
       "    <tr>\n",
       "      <th>14</th>\n",
       "      <td>Soil_Type14</td>\n",
       "      <td>6.014679e-04</td>\n",
       "    </tr>\n",
       "    <tr>\n",
       "      <th>39</th>\n",
       "      <td>Soil_Type37</td>\n",
       "      <td>6.064373e-04</td>\n",
       "    </tr>\n",
       "    <tr>\n",
       "      <th>6</th>\n",
       "      <td>Horizontal_Distance_To_Hydrology</td>\n",
       "      <td>6.317389e-04</td>\n",
       "    </tr>\n",
       "    <tr>\n",
       "      <th>22</th>\n",
       "      <td>Soil_Type21</td>\n",
       "      <td>9.859174e-04</td>\n",
       "    </tr>\n",
       "    <tr>\n",
       "      <th>19</th>\n",
       "      <td>Soil_Type19</td>\n",
       "      <td>1.010645e-03</td>\n",
       "    </tr>\n",
       "    <tr>\n",
       "      <th>44</th>\n",
       "      <td>Soil_Type5</td>\n",
       "      <td>1.038269e-03</td>\n",
       "    </tr>\n",
       "    <tr>\n",
       "      <th>31</th>\n",
       "      <td>Soil_Type3</td>\n",
       "      <td>1.125387e-03</td>\n",
       "    </tr>\n",
       "    <tr>\n",
       "      <th>37</th>\n",
       "      <td>Soil_Type35</td>\n",
       "      <td>1.139774e-03</td>\n",
       "    </tr>\n",
       "    <tr>\n",
       "      <th>51</th>\n",
       "      <td>Wilderness_Area2</td>\n",
       "      <td>1.210417e-03</td>\n",
       "    </tr>\n",
       "    <tr>\n",
       "      <th>4</th>\n",
       "      <td>Hillshade_Noon</td>\n",
       "      <td>1.416462e-03</td>\n",
       "    </tr>\n",
       "    <tr>\n",
       "      <th>9</th>\n",
       "      <td>Soil_Type1</td>\n",
       "      <td>1.557003e-03</td>\n",
       "    </tr>\n",
       "    <tr>\n",
       "      <th>17</th>\n",
       "      <td>Soil_Type17</td>\n",
       "      <td>1.603421e-03</td>\n",
       "    </tr>\n",
       "    <tr>\n",
       "      <th>52</th>\n",
       "      <td>Wilderness_Area3</td>\n",
       "      <td>1.849475e-03</td>\n",
       "    </tr>\n",
       "    <tr>\n",
       "      <th>35</th>\n",
       "      <td>Soil_Type33</td>\n",
       "      <td>2.056893e-03</td>\n",
       "    </tr>\n",
       "    <tr>\n",
       "      <th>42</th>\n",
       "      <td>Soil_Type4</td>\n",
       "      <td>2.532507e-03</td>\n",
       "    </tr>\n",
       "    <tr>\n",
       "      <th>33</th>\n",
       "      <td>Soil_Type31</td>\n",
       "      <td>2.557290e-03</td>\n",
       "    </tr>\n",
       "    <tr>\n",
       "      <th>45</th>\n",
       "      <td>Soil_Type6</td>\n",
       "      <td>2.651320e-03</td>\n",
       "    </tr>\n",
       "    <tr>\n",
       "      <th>49</th>\n",
       "      <td>Vertical_Distance_To_Hydrology</td>\n",
       "      <td>2.667253e-03</td>\n",
       "    </tr>\n",
       "    <tr>\n",
       "      <th>20</th>\n",
       "      <td>Soil_Type2</td>\n",
       "      <td>2.938624e-03</td>\n",
       "    </tr>\n",
       "    <tr>\n",
       "      <th>25</th>\n",
       "      <td>Soil_Type24</td>\n",
       "      <td>3.057686e-03</td>\n",
       "    </tr>\n",
       "    <tr>\n",
       "      <th>34</th>\n",
       "      <td>Soil_Type32</td>\n",
       "      <td>3.088412e-03</td>\n",
       "    </tr>\n",
       "    <tr>\n",
       "      <th>43</th>\n",
       "      <td>Soil_Type40</td>\n",
       "      <td>3.465760e-03</td>\n",
       "    </tr>\n",
       "    <tr>\n",
       "      <th>41</th>\n",
       "      <td>Soil_Type39</td>\n",
       "      <td>5.243304e-03</td>\n",
       "    </tr>\n",
       "    <tr>\n",
       "      <th>40</th>\n",
       "      <td>Soil_Type38</td>\n",
       "      <td>5.654902e-03</td>\n",
       "    </tr>\n",
       "    <tr>\n",
       "      <th>5</th>\n",
       "      <td>Horizontal_Distance_To_Fire_Points</td>\n",
       "      <td>6.654881e-03</td>\n",
       "    </tr>\n",
       "    <tr>\n",
       "      <th>8</th>\n",
       "      <td>Slope</td>\n",
       "      <td>8.233907e-03</td>\n",
       "    </tr>\n",
       "    <tr>\n",
       "      <th>30</th>\n",
       "      <td>Soil_Type29</td>\n",
       "      <td>8.263100e-03</td>\n",
       "    </tr>\n",
       "    <tr>\n",
       "      <th>7</th>\n",
       "      <td>Horizontal_Distance_To_Roadways</td>\n",
       "      <td>1.129518e-02</td>\n",
       "    </tr>\n",
       "    <tr>\n",
       "      <th>24</th>\n",
       "      <td>Soil_Type23</td>\n",
       "      <td>1.256176e-02</td>\n",
       "    </tr>\n",
       "    <tr>\n",
       "      <th>10</th>\n",
       "      <td>Soil_Type10</td>\n",
       "      <td>1.333291e-02</td>\n",
       "    </tr>\n",
       "    <tr>\n",
       "      <th>1</th>\n",
       "      <td>Elevation</td>\n",
       "      <td>1.907035e-02</td>\n",
       "    </tr>\n",
       "    <tr>\n",
       "      <th>50</th>\n",
       "      <td>Wilderness_Area1</td>\n",
       "      <td>1.907049e-02</td>\n",
       "    </tr>\n",
       "    <tr>\n",
       "      <th>23</th>\n",
       "      <td>Soil_Type22</td>\n",
       "      <td>2.058876e-02</td>\n",
       "    </tr>\n",
       "    <tr>\n",
       "      <th>53</th>\n",
       "      <td>Wilderness_Area4</td>\n",
       "      <td>2.150081e-02</td>\n",
       "    </tr>\n",
       "  </tbody>\n",
       "</table>\n",
       "</div>"
      ],
      "text/plain": [
       "                              VAR_NAME            IV\n",
       "27                         Soil_Type26  5.922402e-08\n",
       "46                          Soil_Type7  1.068753e-07\n",
       "29                         Soil_Type28  1.268434e-06\n",
       "15                         Soil_Type15  4.594038e-06\n",
       "47                          Soil_Type8  7.148760e-06\n",
       "36                         Soil_Type34  8.304029e-06\n",
       "3                        Hillshade_9am  8.567548e-06\n",
       "48                          Soil_Type9  1.816033e-05\n",
       "18                         Soil_Type18  2.028328e-05\n",
       "26                         Soil_Type25  2.260561e-05\n",
       "16                         Soil_Type16  3.564446e-05\n",
       "32                         Soil_Type30  4.767974e-05\n",
       "0                               Aspect  6.801658e-05\n",
       "38                         Soil_Type36  9.861691e-05\n",
       "28                         Soil_Type27  1.317713e-04\n",
       "2                        Hillshade_3pm  1.824358e-04\n",
       "13                         Soil_Type13  2.201378e-04\n",
       "12                         Soil_Type12  2.585636e-04\n",
       "11                         Soil_Type11  4.256679e-04\n",
       "21                         Soil_Type20  4.447757e-04\n",
       "14                         Soil_Type14  6.014679e-04\n",
       "39                         Soil_Type37  6.064373e-04\n",
       "6     Horizontal_Distance_To_Hydrology  6.317389e-04\n",
       "22                         Soil_Type21  9.859174e-04\n",
       "19                         Soil_Type19  1.010645e-03\n",
       "44                          Soil_Type5  1.038269e-03\n",
       "31                          Soil_Type3  1.125387e-03\n",
       "37                         Soil_Type35  1.139774e-03\n",
       "51                    Wilderness_Area2  1.210417e-03\n",
       "4                       Hillshade_Noon  1.416462e-03\n",
       "9                           Soil_Type1  1.557003e-03\n",
       "17                         Soil_Type17  1.603421e-03\n",
       "52                    Wilderness_Area3  1.849475e-03\n",
       "35                         Soil_Type33  2.056893e-03\n",
       "42                          Soil_Type4  2.532507e-03\n",
       "33                         Soil_Type31  2.557290e-03\n",
       "45                          Soil_Type6  2.651320e-03\n",
       "49      Vertical_Distance_To_Hydrology  2.667253e-03\n",
       "20                          Soil_Type2  2.938624e-03\n",
       "25                         Soil_Type24  3.057686e-03\n",
       "34                         Soil_Type32  3.088412e-03\n",
       "43                         Soil_Type40  3.465760e-03\n",
       "41                         Soil_Type39  5.243304e-03\n",
       "40                         Soil_Type38  5.654902e-03\n",
       "5   Horizontal_Distance_To_Fire_Points  6.654881e-03\n",
       "8                                Slope  8.233907e-03\n",
       "30                         Soil_Type29  8.263100e-03\n",
       "7      Horizontal_Distance_To_Roadways  1.129518e-02\n",
       "24                         Soil_Type23  1.256176e-02\n",
       "10                         Soil_Type10  1.333291e-02\n",
       "1                            Elevation  1.907035e-02\n",
       "50                    Wilderness_Area1  1.907049e-02\n",
       "23                         Soil_Type22  2.058876e-02\n",
       "53                    Wilderness_Area4  2.150081e-02"
      ]
     },
     "execution_count": 23,
     "metadata": {},
     "output_type": "execute_result"
    }
   ],
   "source": [
    "IV.sort_values('IV')"
   ]
  },
  {
   "cell_type": "markdown",
   "metadata": {},
   "source": [
    "### Обучим на 1 признаке"
   ]
  },
  {
   "cell_type": "code",
   "execution_count": 24,
   "metadata": {},
   "outputs": [],
   "source": [
    "X_train, X_test, y_train, y_test = train_test_split(data[['Elevation']], data['Cover_Type'], random_state=RANDOM_STATE, test_size=0.2, )"
   ]
  },
  {
   "cell_type": "code",
   "execution_count": 25,
   "metadata": {},
   "outputs": [
    {
     "data": {
      "text/plain": [
       "RandomForestRegressor(bootstrap=True, ccp_alpha=0.0, criterion='mse',\n",
       "                      max_depth=20, max_features=0.8, max_leaf_nodes=None,\n",
       "                      max_samples=None, min_impurity_decrease=0.0,\n",
       "                      min_impurity_split=None, min_samples_leaf=20,\n",
       "                      min_samples_split=2, min_weight_fraction_leaf=0.0,\n",
       "                      n_estimators=20, n_jobs=-1, oob_score=False,\n",
       "                      random_state=7, verbose=0, warm_start=False)"
      ]
     },
     "execution_count": 25,
     "metadata": {},
     "output_type": "execute_result"
    }
   ],
   "source": [
    "# обучим случайный лес на самом важном признаке\n",
    "model_rf = RandomForestRegressor(n_estimators=20, max_depth=20, min_samples_leaf=20, max_features=0.8, n_jobs=-1, bootstrap=True, random_state=RANDOM_STATE)\n",
    "model_rf.fit(X_train, y_train)"
   ]
  },
  {
   "cell_type": "code",
   "execution_count": 26,
   "metadata": {},
   "outputs": [
    {
     "name": "stdout",
     "output_type": "stream",
     "text": [
      "MSE: 1.4062867535424552\n"
     ]
    }
   ],
   "source": [
    "score_1 = np.mean(-cross_val_score(model_rf,X_test,y_test,cv=N_FOLDS,scoring='neg_mean_squared_error'))\n",
    "print('MSE:', score_1)"
   ]
  },
  {
   "cell_type": "markdown",
   "metadata": {},
   "source": [
    "### Обучим на 2 признаках"
   ]
  },
  {
   "cell_type": "code",
   "execution_count": 27,
   "metadata": {},
   "outputs": [],
   "source": [
    "X_train, X_test, y_train, y_test = train_test_split(data[['Soil_Type22', 'Wilderness_Area4']], data['Cover_Type'], random_state=RANDOM_STATE, test_size=0.2, )"
   ]
  },
  {
   "cell_type": "code",
   "execution_count": 28,
   "metadata": {},
   "outputs": [
    {
     "data": {
      "text/plain": [
       "RandomForestRegressor(bootstrap=True, ccp_alpha=0.0, criterion='mse',\n",
       "                      max_depth=20, max_features=0.8, max_leaf_nodes=None,\n",
       "                      max_samples=None, min_impurity_decrease=0.0,\n",
       "                      min_impurity_split=None, min_samples_leaf=20,\n",
       "                      min_samples_split=2, min_weight_fraction_leaf=0.0,\n",
       "                      n_estimators=20, n_jobs=-1, oob_score=False,\n",
       "                      random_state=7, verbose=0, warm_start=False)"
      ]
     },
     "execution_count": 28,
     "metadata": {},
     "output_type": "execute_result"
    }
   ],
   "source": [
    "# обучим случайный лес на самых важных признаках по information value\n",
    "model_rf = RandomForestRegressor(n_estimators=20, max_depth=20, min_samples_leaf=20, max_features=0.8, n_jobs=-1, bootstrap=True, random_state=RANDOM_STATE)\n",
    "model_rf.fit(X_train, y_train)"
   ]
  },
  {
   "cell_type": "code",
   "execution_count": 29,
   "metadata": {},
   "outputs": [
    {
     "name": "stdout",
     "output_type": "stream",
     "text": [
      "MSE: 1.7278565242663604\n"
     ]
    }
   ],
   "source": [
    "score_2 = np.mean(-cross_val_score(model_rf,X_test,y_test,cv=N_FOLDS,scoring='neg_mean_squared_error'))\n",
    "print('MSE:', score_2)"
   ]
  },
  {
   "cell_type": "markdown",
   "metadata": {},
   "source": [
    "### Обучим на 3 признаках"
   ]
  },
  {
   "cell_type": "code",
   "execution_count": 30,
   "metadata": {},
   "outputs": [],
   "source": [
    "X_train, X_test, y_train, y_test = train_test_split(data[['Elevation', 'Aspect', 'Slope']], data['Cover_Type'], random_state=RANDOM_STATE, test_size=0.2, )"
   ]
  },
  {
   "cell_type": "code",
   "execution_count": 31,
   "metadata": {},
   "outputs": [
    {
     "data": {
      "text/plain": [
       "RandomForestRegressor(bootstrap=True, ccp_alpha=0.0, criterion='mse',\n",
       "                      max_depth=20, max_features=0.8, max_leaf_nodes=None,\n",
       "                      max_samples=None, min_impurity_decrease=0.0,\n",
       "                      min_impurity_split=None, min_samples_leaf=20,\n",
       "                      min_samples_split=2, min_weight_fraction_leaf=0.0,\n",
       "                      n_estimators=20, n_jobs=-1, oob_score=False,\n",
       "                      random_state=7, verbose=0, warm_start=False)"
      ]
     },
     "execution_count": 31,
     "metadata": {},
     "output_type": "execute_result"
    }
   ],
   "source": [
    "# обучим случайный лес на 3 самых важных признаках по Lacco и деревьям решений\n",
    "model_rf = RandomForestRegressor(n_estimators=20, max_depth=20, min_samples_leaf=20, max_features=0.8, n_jobs=-1, bootstrap=True, random_state=RANDOM_STATE)\n",
    "model_rf.fit(X_train, y_train)"
   ]
  },
  {
   "cell_type": "code",
   "execution_count": 32,
   "metadata": {},
   "outputs": [
    {
     "name": "stdout",
     "output_type": "stream",
     "text": [
      "MSE: 1.2629071045214186\n"
     ]
    }
   ],
   "source": [
    "score_3 = np.mean(-cross_val_score(model_rf,X_test,y_test,cv=N_FOLDS,scoring='neg_mean_squared_error'))\n",
    "print('MSE:', score_3)"
   ]
  },
  {
   "cell_type": "markdown",
   "metadata": {},
   "source": [
    "### Обучим на 5 признаках"
   ]
  },
  {
   "cell_type": "code",
   "execution_count": 33,
   "metadata": {},
   "outputs": [],
   "source": [
    "X_train, X_test, y_train, y_test = train_test_split(data[['Elevation', 'Aspect', 'Slope', 'Horizontal_Distance_To_Hydrology', 'Vertical_Distance_To_Hydrology']], data['Cover_Type'], random_state=RANDOM_STATE, test_size=0.2, )"
   ]
  },
  {
   "cell_type": "code",
   "execution_count": 34,
   "metadata": {},
   "outputs": [
    {
     "data": {
      "text/plain": [
       "RandomForestRegressor(bootstrap=True, ccp_alpha=0.0, criterion='mse',\n",
       "                      max_depth=20, max_features=0.8, max_leaf_nodes=None,\n",
       "                      max_samples=None, min_impurity_decrease=0.0,\n",
       "                      min_impurity_split=None, min_samples_leaf=20,\n",
       "                      min_samples_split=2, min_weight_fraction_leaf=0.0,\n",
       "                      n_estimators=20, n_jobs=-1, oob_score=False,\n",
       "                      random_state=7, verbose=0, warm_start=False)"
      ]
     },
     "execution_count": 34,
     "metadata": {},
     "output_type": "execute_result"
    }
   ],
   "source": [
    "# обучим случайный лес на 5 самых важных признаках по Lacco и деревьям решений\n",
    "model_rf = RandomForestRegressor(n_estimators=20, max_depth=20, min_samples_leaf=20, max_features=0.8, n_jobs=-1, bootstrap=True, random_state=RANDOM_STATE)\n",
    "model_rf.fit(X_train, y_train)"
   ]
  },
  {
   "cell_type": "code",
   "execution_count": 35,
   "metadata": {},
   "outputs": [
    {
     "name": "stdout",
     "output_type": "stream",
     "text": [
      "MSE: 1.0555029295110532\n"
     ]
    }
   ],
   "source": [
    "score_5 = np.mean(-cross_val_score(model_rf,X_test,y_test,cv=N_FOLDS,scoring='neg_mean_squared_error'))\n",
    "print('MSE:', score_5)"
   ]
  },
  {
   "cell_type": "markdown",
   "metadata": {},
   "source": [
    "### Обучим на 10 признаках"
   ]
  },
  {
   "cell_type": "code",
   "execution_count": 39,
   "metadata": {},
   "outputs": [],
   "source": [
    "X_train, X_test, y_train, y_test = train_test_split(data[['Elevation', 'Aspect', 'Slope', 'Horizontal_Distance_To_Hydrology', 'Vertical_Distance_To_Hydrology', 'Horizontal_Distance_To_Roadways', 'Hillshade_Noon', 'Hillshade_9am', 'Hillshade_3pm', 'Horizontal_Distance_To_Fire_Points']], data['Cover_Type'], random_state=RANDOM_STATE, test_size=0.2, )"
   ]
  },
  {
   "cell_type": "code",
   "execution_count": 40,
   "metadata": {},
   "outputs": [
    {
     "data": {
      "text/plain": [
       "RandomForestRegressor(bootstrap=True, ccp_alpha=0.0, criterion='mse',\n",
       "                      max_depth=20, max_features=0.8, max_leaf_nodes=None,\n",
       "                      max_samples=None, min_impurity_decrease=0.0,\n",
       "                      min_impurity_split=None, min_samples_leaf=20,\n",
       "                      min_samples_split=2, min_weight_fraction_leaf=0.0,\n",
       "                      n_estimators=20, n_jobs=-1, oob_score=False,\n",
       "                      random_state=7, verbose=0, warm_start=False)"
      ]
     },
     "execution_count": 40,
     "metadata": {},
     "output_type": "execute_result"
    }
   ],
   "source": [
    "# обучим случайный лес на 10 самых важных признаках по Lacco и деревьям решений\n",
    "model_rf = RandomForestRegressor(n_estimators=20, max_depth=20, min_samples_leaf=20, max_features=0.8, n_jobs=-1, bootstrap=True, random_state=RANDOM_STATE)\n",
    "model_rf.fit(X_train, y_train)"
   ]
  },
  {
   "cell_type": "code",
   "execution_count": 41,
   "metadata": {},
   "outputs": [
    {
     "name": "stdout",
     "output_type": "stream",
     "text": [
      "MSE: 0.6738107809530959\n"
     ]
    }
   ],
   "source": [
    "score_10 = np.mean(-cross_val_score(model_rf,X_test,y_test,cv=N_FOLDS,scoring='neg_mean_squared_error'))\n",
    "print('MSE:', score_10)"
   ]
  },
  {
   "cell_type": "markdown",
   "metadata": {},
   "source": [
    "### Построим график зависимости MSE от количества признаков"
   ]
  },
  {
   "cell_type": "code",
   "execution_count": 42,
   "metadata": {},
   "outputs": [
    {
     "data": {
      "text/plain": [
       "[1.4062867535424552,\n",
       " 1.7278565242663604,\n",
       " 1.2629071045214186,\n",
       " 1.0555029295110532,\n",
       " 0.6738107809530959,\n",
       " 0.5673345533458373]"
      ]
     },
     "execution_count": 42,
     "metadata": {},
     "output_type": "execute_result"
    }
   ],
   "source": [
    "score = [score_1, score_2, score_3, score_5, score_10, score_total]\n",
    "score"
   ]
  },
  {
   "cell_type": "code",
   "execution_count": 43,
   "metadata": {},
   "outputs": [
    {
     "data": {
      "image/png": "[encoded data removed]",
      "text/plain": [
       "<Figure size 1152x864 with 1 Axes>"
      ]
     },
     "metadata": {
      "needs_background": "light"
     },
     "output_type": "display_data"
    }
   ],
   "source": [
    "plt.figure(figsize=(16,12))\n",
    "plt.plot(score)\n",
    "plt.title('График изменения MSE')\n",
    "plt.grid()\n",
    "plt.show();"
   ]
  },
  {
   "cell_type": "markdown",
   "metadata": {},
   "source": [
    "С увеличение количества признаков MSE снижается и уже на 10 признаках примерно равен показателю на 60 признаках"
   ]
  },
  {
   "cell_type": "code",
   "execution_count": null,
   "metadata": {},
   "outputs": [],
   "source": []
  }
 ],
 "metadata": {
  "kernelspec": {
   "display_name": "Python 3",
   "language": "python",
   "name": "python3"
  },
  "language_info": {
   "codemirror_mode": {
    "name": "ipython",
    "version": 3
   },
   "file_extension": ".py",
   "mimetype": "text/x-python",
   "name": "python",
   "nbconvert_exporter": "python",
   "pygments_lexer": "ipython3",
   "version": "3.7.6"
  }
 },
 "nbformat": 4,
 "nbformat_minor": 4
}
